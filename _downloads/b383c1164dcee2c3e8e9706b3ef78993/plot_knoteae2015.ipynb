{
  "cells": [
    {
      "cell_type": "markdown",
      "metadata": {},
      "source": [
        "\n# pykpp Tutorial\n\n    goals: Predict ozone at a monitor using HYSPLIT and pykpp\n    authors: Barron Henderson, Robert Nedbor-Gross, Qian Shu\n\n# Overview\n\n1. Create an idealized environment (Knote et al., 2015)\n2. Create a simple trajectory model\n  - Chemistry - CB05\n  - Emissions from NEI\n  - Deposition from Knote et al., 2015\n  - Dilution following Knote et al., 2015\n\nAssumes pykpp is installed\n\n    python -m pip install http://github.com/barronh/pykpp/archive/main.zip\n\n## Knote et al. 2015\n\nThis example application is based on the Knote et al. (2015) simulation of a typical summer day with CB05. The example here uses the \"Summer\" PBL and temperature profile. At present, the example uses the a relatively \"clean\" initial environment (NOx(t=0) = 1ppb).\n\n## Trajectory model\n\nWe'll use a KPP language to implement the model. Each piece will be saved as a string and then combined to produce an active model.\n\n- prepare an air pracel and model environment,\n- select gas-phase chemical reactions,\n- add emissions as chemical reactions,\n- add deposition as chemical reactions\n"
      ]
    },
    {
      "cell_type": "code",
      "execution_count": null,
      "metadata": {
        "collapsed": false
      },
      "outputs": [],
      "source": [
        "import time\nimport numpy as np\nfrom pykpp.mech import Mech\nfrom io import StringIO\nimport pandas as pd\nimport matplotlib.pyplot as plt\nfrom pykpp.updaters import func_updater\n\n\ninfile = StringIO(\"\"\"\n#INLINE PY_INIT\nTEMP = 298.15\nP = 99600.\nt = TSTART = 0 * 3600.\nTEND = TSTART + 3600. * 24\nDT = 60.\nMONITOR_DT = 3600\nStartDate = 'datetime(2010, 7, 14)'\nLatitude_Degrees = 40.\nLongitude_Degrees = 0.00E+00\nKDIL = 0.\nPBLH_OLD = 250.\nvd_CO = 0.03\nvd_SO2 = 1.8\nvd_NO = 0.016\nvd_NO2 = 0.1\nvd_NO3 = 0.1\nvd_N2O5 = 4\nvd_HONO = 2.2\nvd_HNO3 = 4\nvd_HNO4 = 4\nvd_O3 = 0.4\nvd_H2O2 = 0.5\nvd_CH3OOH = 0.1\nmolps_to_molpcm2ps = Avogadro / 1200000**2\n\nadd_world_updater(func_updater(Update_M, incr = 360., verbose=False))\nadd_world_updater(func_updater(Update_THETA, incr = 360., verbose=False))\nadd_world_updater(interpolated_from_csv(\n    'summerenv.tsv', 'time', incr = 360., delimiter = '\\\\t', verbose=False\n))\nadd_world_updater(interpolated_from_csv(\n    'mean_emis.csv', 'time', incr = 360, verbose=False\n))\nadd_world_updater(func_updater(\n    Monitor, incr = 7200., allowforce = False, verbose=False\n))\n#ENDINLINE\n\n#INITVALUES\nCFACTOR = P * Avogadro / R / TEMP * centi **3 * nano {ppb-to-molecules/cm3}\nALL_SPEC=1e-32*CFACTOR;\nTOTALNOx=1.\nM=1e9\nO2=.21*M\nN2=.79*M\nH2O=0.01*M\nCH4=1750\nCO=100\nO3=30.\nNO = 0.1 * TOTALNOx\nNO2 = 0.9 * TOTALNOx\nSO2 = 1\nN2O = 320\n{B = 210.; what to do about B?}\n\n#MONITOR t/3600.; THETA; PBLH; TEMP; O3;\n#LOOKAT THETA; t/3600; PBLH; TEMP; O1D; OH; HO2; O3; NO; NO2; eNOx; TUV_J(6, THETA); emis_NO; emis_NO * molps_to_molpcm2ps / PBLH / 100 / CFACTOR * 3600;\n\n#include cb05cl.eqn\n<EMISALD2> EMISSION = ALD2 : emis_ALD2 * molps_to_molpcm2ps / PBLH / 100 ;\n<EMISALDX> EMISSION = ALDX : emis_ALDX * molps_to_molpcm2ps / PBLH / 100 ;\n<EMISCH4> EMISSION = CH4 : emis_CH4 * molps_to_molpcm2ps / PBLH / 100 ;\n<EMISCL2> EMISSION = CL2 : emis_CL2 * molps_to_molpcm2ps / PBLH / 100 ;\n<EMISCO> EMISSION = CO : emis_CO * molps_to_molpcm2ps / PBLH / 100 ;\n<EMISETH> EMISSION = ETH : emis_ETH * molps_to_molpcm2ps / PBLH / 100 ;\n<EMISETHA> EMISSION = ETHA : emis_ETHA * molps_to_molpcm2ps / PBLH / 100 ;\n<EMISETOH> EMISSION = ETOH : emis_ETOH * molps_to_molpcm2ps / PBLH / 100 ;\n<EMISFORM> EMISSION = FORM : emis_FORM * molps_to_molpcm2ps / PBLH / 100 ;\n<EMISHONO> EMISSION = HONO : emis_HONO * molps_to_molpcm2ps / PBLH / 100 ;\n<EMISIOLE> EMISSION = IOLE : emis_IOLE * molps_to_molpcm2ps / PBLH / 100 ;\n<EMISISOP> EMISSION = ISOP : emis_ISOP * molps_to_molpcm2ps / PBLH / 100 ;\n<EMISMEOH> EMISSION = MEOH : emis_MEOH * molps_to_molpcm2ps / PBLH / 100 ;\n<EMISNH3> EMISSION = NH3 : emis_NH3 * molps_to_molpcm2ps / PBLH / 100 ;\n<EMISNO> EMISSION = NO + eNOx : emis_NO * molps_to_molpcm2ps / PBLH / 100 ;\n<EMISNO2> EMISSION = NO2 + eNOx : emis_NO2 * molps_to_molpcm2ps / PBLH / 100 ;\n<EMISOLE> EMISSION = OLE : emis_OLE * molps_to_molpcm2ps / PBLH / 100 ;\n<EMISPAR> EMISSION = PAR : emis_PAR * molps_to_molpcm2ps / PBLH / 100 ;\n<EMISSESQ> EMISSION = SESQ : emis_SESQ * molps_to_molpcm2ps / PBLH / 100 ;\n<EMISSO2> EMISSION = SO2 : emis_SO2 * molps_to_molpcm2ps / PBLH / 100 ;\n<EMISSULF> EMISSION = SULF : emis_SULF * molps_to_molpcm2ps / PBLH / 100 ;\n<EMISTERP> EMISSION = TERP : emis_TERP * molps_to_molpcm2ps / PBLH / 100 ;\n<EMISTOL> EMISSION = TOL : emis_TOL * molps_to_molpcm2ps / PBLH / 100 ;\n<EMISXYL> EMISSION = XYL : emis_XYL * molps_to_molpcm2ps / PBLH / 100 ;\n<DDEPCO> CO = DUMMY : vd_CO / PBLH / 100 ;\n<DDEPSO2> SO2 = DUMMY : vd_SO2 / PBLH / 100 ;\n<DDEPNO> NO = DUMMY : vd_NO / PBLH / 100 ;\n<DDEPNO2> NO2 = DUMMY : vd_NO2 / PBLH / 100 ;\n<DDEPNO3> NO3 = DUMMY : vd_NO3 / PBLH / 100 ;\n<DDEPN2O5> N2O5 = DUMMY : vd_N2O5 / PBLH / 100 ;\n<DDEPHONO> HONO = DUMMY : vd_HONO / PBLH / 100 ;\n<DDEPHNO3> HNO3 = DUMMY : vd_HNO3 / PBLH / 100 ;\n<DDEPHNO4> PNA = DUMMY : vd_HNO4 / PBLH / 100 ;\n<DDEPO3> O3 = DUMMY : vd_O3 / PBLH / 100 ;\n<DDEPH2O2> H2O2 = DUMMY : vd_H2O2 / PBLH / 100 ;\n<DDEPCH3OOH> MEPX = DUMMY : vd_CH3OOH / PBLH / 100 ;\n\n\"\"\")\n\nkeywords = [\n    'DUMMY', 'EMISSION', 'BNZHRXN', 'BNZNRXN', 'ISOPRXN', 'SESQRXN', 'SULRXN',\n    'TOLHRXN', 'TOLNRXN', 'TRPRXN', 'XYLHRXN', 'XYLNRXN'\n]\n\nmech = Mech(\n    infile, mechname='summercb05', incr=360, add_default_funcs=False,\n    keywords=keywords\n)\n\n# Create time start/stop matrix\nnhour = 24.\nstart_end_ts = np.linspace(\n    0, nhour, int(nhour) * 12 + 1\n).repeat(2, 0)[1:-1].reshape(-1, 2) * 3600\n\n# Capture initial values as \"background\"\n# concentrations\nmech.world['ybkg'] = mech.get_y(mech.parsed_world)\n\n# Create specific tolerance values for radical species\n# great care should be taken with O1D.\n# note that CMAQ EBI solver has no absolute tolerance and\n# uses 1 rtol for radicals and rxn counters.\n#\natol = np.array([\n    10 if (spc in ('O', 'O1D', 'HCO3', 'NTR') or spc[-3:] == 'RXN') else 1e-3\n    for spc in mech.allspcs\n])\nrtol = np.array([\n    0.1 if (spc in ('O', 'O1D', 'HCO3', 'NTR') or spc[-3:] == 'RXN') else 1e-5\n    for spc in mech.allspcs\n])\n\n# Start timing the process\nrunstart = time.time()\n\n# Update world for all interpolated values\nmech.world['t'] = start_end_ts.min()\nmech.update_y_from_world()\nmech.Update_World(forceupdate=True)"
      ]
    },
    {
      "cell_type": "markdown",
      "metadata": {},
      "source": [
        "## Define a function to dilute with PBL\n- In a trajectory model, we need a PBL dilution\n- It should only dilute when PBL goes up\n- When PBL collapses, it should not concentrate\n- This will be called by the mechanism in between integrations\n\n"
      ]
    },
    {
      "cell_type": "code",
      "execution_count": null,
      "metadata": {
        "collapsed": false
      },
      "outputs": [],
      "source": [
        "def UpdatePBL(mech, world):\n    \"\"\"\n    Defining updater for PBL rise\n    \"\"\"\n    if 'y' not in world:\n        return\n    PBLH_OLD = world['PBLH_OLD']\n    ybkg = world['ybkg']\n    y = world['y']\n    PBLH = mech.world['PBLH']\n    if PBLH != PBLH_OLD:\n        KDIL = np.minimum(1, PBLH_OLD / PBLH)\n        mech.world['KDIL'] = KDIL\n        world['PBLH_OLD'] = PBLH\n        ydil = (KDIL * y) + (1 - KDIL) * ybkg\n        nonzero = ybkg != 2.4195878568940516e-22\n        y[nonzero] = ydil[nonzero]\n    else:\n        mech.world['KDIL'] = 1\n    mech.update_world_from_y(y)\n\n# Add an updater that depends on the y vector\nmech.add_world_updater(func_updater(UpdatePBL, incr=360., verbose=False))\nmech.world['PBLH_OLD'] = mech.world['PBLH']"
      ]
    },
    {
      "cell_type": "markdown",
      "metadata": {},
      "source": [
        "## Run Model\n\n\n"
      ]
    },
    {
      "cell_type": "code",
      "execution_count": null,
      "metadata": {
        "collapsed": false
      },
      "outputs": [],
      "source": [
        "# Archive initial values\nmech.archive()\n\n# For each start/stop combination, update the world and integrate\nfor t0, t1 in start_end_ts:\n    # set current time to t0\n    t = t0\n    # Get y vector from world state\n    y = mech.update_y_from_world()\n    # integrate from t to t1 with initial state of y\n    # ts, Y = mech.integrate(\n    #     t, t1, y0=y, solver='odeint', mxords=3, mxordn=3, atol=atol,\n    #     rtol=rtol, mxstep = 1000, hmax = 300, verbose=False\n    # )\n    ts, Y = mech.integrate(\n        t, t1, y0=y, solver='lsoda', atol=atol, rtol=rtol, nsteps=1000,\n        max_step=300, max_order_ns=3, max_order_s=3, verbose=False\n    )\n    # Update world to match new time\n    mech.world['y'] = Y[-1]\n    mech.update_world_from_y()\n    mech.Update_World(forceupdate=True)\n    # Update y vector for mixing of PBL\n    # Set new time to last time of integration\n    t = ts[-1]\n    # Update world from y vector\n    mech.update_world_from_y()\n    mech.archive()\n\n\n# Optionally save to disk\n# mech.output()\n\nrunend = time.time()\nprint((runend - runstart), 'seconds')"
      ]
    },
    {
      "cell_type": "markdown",
      "metadata": {},
      "source": [
        "## Make Plots\n\n"
      ]
    },
    {
      "cell_type": "code",
      "execution_count": null,
      "metadata": {
        "collapsed": false
      },
      "outputs": [],
      "source": [
        "data = mech.get_output()\ndata['h_LST'] = data['t'] / 3600\ndata['NOx'] = data['NO'] + data['NO2']\ndata['jNO2*100'] = data['TUV_J(6,THETA)'] * 100\ndata['PBLH [km]'] = data['PBLH'] / 1e3\ndata['TEMP/25 [C]'] = (data['TEMP'] - 273.15) / 25.\ndata['OH/10 [ppqv]'] = data['OH'] * 1e5\ndata['HO2 [pptv]'] = data['HO2'] * 1e3\n\nfig, ax = plt.subplots()\ndata.set_index('h_LST')[['emis_NO', 'jNO2*100', 'PBLH [km]', 'TEMP/25 [C]']].plot(ax=ax)\nfig.savefig('knote_physical.png')\n\nfig, ax = plt.subplots()\ndata.set_index('h_LST')[['NOx', 'NO', 'NO2']].plot(ax=ax)\nax.set(xlabel='hour [LST]', ylabel='ppb', ylim=(.1, 5), yscale='log')\nfig.savefig('chemical_nox.png')\n\nfig, ax = plt.subplots()\ndata.set_index('h_LST')[['O3', 'OH/10 [ppqv]', 'HO2 [pptv]']].plot(ax=ax)\nax.set(xlabel='hour (LST)')\nfig.savefig('chemical_ozone.png')"
      ]
    }
  ],
  "metadata": {
    "kernelspec": {
      "display_name": "Python 3",
      "language": "python",
      "name": "python3"
    },
    "language_info": {
      "codemirror_mode": {
        "name": "ipython",
        "version": 3
      },
      "file_extension": ".py",
      "mimetype": "text/x-python",
      "name": "python",
      "nbconvert_exporter": "python",
      "pygments_lexer": "ipython3",
      "version": "3.13.3"
    }
  },
  "nbformat": 4,
  "nbformat_minor": 0
}