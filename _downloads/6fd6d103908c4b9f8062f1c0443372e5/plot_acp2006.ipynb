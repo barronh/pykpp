{
  "cells": [
    {
      "cell_type": "markdown",
      "metadata": {},
      "source": [
        "\n# Simple Chemistry Example\n\nThis test is a simple example from Seinfeld and Pandis ACP Second edition\non pg 240.[1].\n\n    we extract a basic chemical mechanism with 1 primary organic oxidation\n    (R1). Under high NOx conditions, the primary organic oxidation produces\n    2 peroxy radical NO oxidations (R2,R3) to produce more radicals (i.e.,\n    HO2 or OH). The produced NO2 can photolyze (R4) to reproduce NO and an\n    odd oxygen (O3P) that is assumed to instantaneously produce ozone. Under\n    high-NOx conditions, the ozone can be lost by oxidizing NO (R5). Finally,\n    radicals can be removed lost by producing nitric acid (R6) or peroxides\n    (R7,R8). Lastly, we add an artificial source of HOx (here defined as HO2\n    + OH) (R9).\n\n[Seinfeld and Pandis Pg 240](https://books.google.com/books?id=YH2K9eWsZOcC&lpg=PT220&vq=RH%20PHOx&pg=PT220#v=onepage&f=false) \n"
      ]
    },
    {
      "cell_type": "markdown",
      "metadata": {},
      "source": [
        "## Imports\n\n\n"
      ]
    },
    {
      "cell_type": "code",
      "execution_count": null,
      "metadata": {
        "collapsed": false
      },
      "outputs": [],
      "source": [
        "import io\nimport matplotlib.pyplot as plt\nfrom pykpp.mech import Mech\nimport numpy as np"
      ]
    },
    {
      "cell_type": "markdown",
      "metadata": {},
      "source": [
        "## Define Model\nA model is made up of:\n\n- equations to be solved\n- inline code to be run before equations are solved (PY_INIT),\n- options for saving data, and\n- state initialization (INITVALUES).\n\n\n"
      ]
    },
    {
      "cell_type": "code",
      "execution_count": null,
      "metadata": {
        "collapsed": false
      },
      "outputs": [],
      "source": [
        "mechstr = \"\"\"\n#EQUATIONS\n{R1} RH + OH = RO2 + H2O : 26.3e-12;\n{R2} RO2 + NO = NO2 + RCHO + HO2 : 7.7e-12;\n{R3} HO2 + NO = NO2 + OH : 8.1e-12;\n{R4} NO2 = NO + O3 : jno2 ;\n{R5} O3 + NO = NO2 + O2 : 1.9e-14 ;\n{R6} OH + NO2 = HNO3 : kohno2 ; \n{R7} HO2 + HO2 = H2O2 + O2 : 2.9e-12 ;\n{R8} RO2 + HO2 = ROOH + O2 : 5.2e-12 ;\n{R9} EMISSION = OH : PHOx;\n\n#INLINE PY_INIT\nt=TSTART=6*3600\nTEND=10*3600+TSTART\nP = 99600.\nTEMP = 298.15\nDT = 60.\nMONITOR_DT = 3600.\nStartDate = 'datetime(2010, 7, 14)'\nLatitude_Degrees = 40.\nLongitude_Degrees = 0.00E+00\n\njno2 = .015;\nkohno2 = 1.1e-11;\n#ENDINLINE\n\n#MONITOR O3; RH; NO; NO2; OH; HO2;\n#INTEGRATOR odeint;\n\n#INITVALUES\nCFACTOR = P * Avogadro / R / TEMP * centi **3 * nano {ppb-to-molecules/cm3}\nALL_SPEC=1e-32*CFACTOR;\nM=1e9\nTOTALNOx=10.\nRH = 200.\nO2=.21*M\nN2=.79*M\nH2O=0.01*M\nO3=30.\nNO = TOTALNOx * 2 / 3\nNO2 = TOTALNOx * 1 / 3\nPHOx = .1e-3 * CFACTOR\n{B = 210.; what to do about B?}\n\"\"\""
      ]
    },
    {
      "cell_type": "markdown",
      "metadata": {},
      "source": [
        "## Run the model and visualize\n- load the model in a mechanism,\n- run it using the odeint solver,\n- get the output as a pandas dataframe,\n- add some derived variables for plotting, and\n- make one plot for NOx species, and one for ozone, OH, and HO2\n\n"
      ]
    },
    {
      "cell_type": "code",
      "execution_count": null,
      "metadata": {
        "collapsed": false
      },
      "outputs": [],
      "source": [
        "mech = Mech(io.StringIO(mechstr), incr=3600, verbose=0)    \nruntime = mech.run(verbose=1, debug=False, solver='odeint')\ndf = mech.get_output()\n\ndf['h_LST'] = df.eval('t / 3600')\ndf['NOx'] = df.eval('NO + NO2')\ndf['OH/10 ppqv'] = df.eval('OH * 1e5')\ndf['HO2 pptv'] = df.eval('HO2 * 1e3')\n\nfig, ax = plt.subplots()\ndf.set_index('h_LST')[['NO', 'NO2', 'NOx']].plot(ax=ax)\nax.set(yscale='log')\nfig.savefig('simple_nox.png')\n\nfig, ax = plt.subplots()\ndf.set_index('h_LST')[['O3', 'OH/10 ppqv', 'HO2 pptv']].plot(ax=ax)\nfig.savefig('simple_ox.png')"
      ]
    },
    {
      "cell_type": "markdown",
      "metadata": {},
      "source": [
        "## Create Ozone Isopleths like Figure 6.12\n- reload the model in a mechanism and disable monitoring,\n- define the NOx and VOC increments to run to find ozone points,\n- run each combniation of NOx and VOC it using the vode solver,\n- save ozone as a 2d array,\n- make a plot of the contours of ozone from all NOx and VOC combos.\n\n"
      ]
    },
    {
      "cell_type": "code",
      "execution_count": null,
      "metadata": {
        "collapsed": false
      },
      "outputs": [],
      "source": [
        "mech = Mech(io.StringIO(mechstr), monitor_incr=None)\nnoxppbs = [1, 2, 3, 4, 5, 6, 7, 8, 9, 10, 20, 30 , 40, 50]\nvocppbs = [50, 60, 70, 80, 90, 100, 200, 300, 400, 500]\n\no3vals = np.zeros((len(noxppbs), len(vocppbs)), dtype = 'f')\n\nfor ni, n in enumerate(noxppbs):\n    print(f'NOx [ppb]: {n}', end=': VOC [ppb]:')\n    for vi, v in enumerate(vocppbs):\n        print(v, end='.', flush=True)\n        # reset world to ensure no carryover from previous simulation\n        mech.resetworld()\n        CFACTOR = mech.world['CFACTOR']\n        # override the default initialization of NO, NO2 and RH (VOC)\n        mech.world['NO'] = n * CFACTOR * 2 / 3\n        mech.world['NO2'] = n * CFACTOR * 1 / 3\n        mech.world['RH'] = v * CFACTOR\n        # Run for this combination of NOx and VOC and store result\n        mech.run(solver = 'vode')\n        o3vals[ni, vi] = eval('O3 / CFACTOR', None, mech.world)\n    print()\n\nfig, ax = plt.subplots()\nlevels = np.linspace(30, 360, 12)\ncs = ax.contourf(vocppbs, noxppbs, o3vals, levels=levels)\nfig.colorbar(cs, label='ozone ppb')\nax.set_yscale('log', base=10, subs=[2,3,5])\nax.set_xscale('log', base=10, subs=[2,3,5])\nax.set(title='Ozone Isoplets (PHOx=0.1 ppt/s)', xlabel='RH [ppb]', ylabel='NOx [ppb]')\nfig.savefig('ekma.png')"
      ]
    }
  ],
  "metadata": {
    "kernelspec": {
      "display_name": "Python 3",
      "language": "python",
      "name": "python3"
    },
    "language_info": {
      "codemirror_mode": {
        "name": "ipython",
        "version": 3
      },
      "file_extension": ".py",
      "mimetype": "text/x-python",
      "name": "python",
      "nbconvert_exporter": "python",
      "pygments_lexer": "ipython3",
      "version": "3.13.3"
    }
  },
  "nbformat": 4,
  "nbformat_minor": 0
}