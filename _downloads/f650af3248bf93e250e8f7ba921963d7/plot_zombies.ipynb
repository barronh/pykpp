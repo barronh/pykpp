{
  "cells": [
    {
      "cell_type": "markdown",
      "metadata": {},
      "source": [
        "\n# Zombie Apocalypse\n\n    author: Barron H. Henderson\n    date: 2020-02-11\nInspired by numerous mathematics examples using Zombies (e.g., [1,2,3]), this\nis a test of the pykpp system to solve for a zombie outbreak. \n\nThe basic model is that zombies (Z) both kill and infect humans (H), and\nhumans kill zombies. I have also added a natural death and birth rate for\nhumans, though it makes little difference on the time scales here. I have\nmade additional assumptions as follows:\n\n1. uniform distribution of humans and zombies,\n2. interactions are proportional to density,\n3. like infectous diseases, the zombie infection rates increase in winter\n4. human militarization against zombies increases with the total zombies.\n\nTo run this exmaple, you must have installed pykpp\n\n    python -m pip install https://github.com/barronh/pykpp/archive/main.zip\n\n\n[1] https://people.maths.ox.ac.uk/maini/PKM%20publications/384.pdf\n\n[2] https://www.ncbi.nlm.nih.gov/pmc/articles/PMC4798798/\n\n[3] https://www.amazon.com/dp/0691173206/ref=cm_sw_em_r_mt_dp_688KKQ5HMHJW9G6Z6654 \n"
      ]
    },
    {
      "cell_type": "code",
      "execution_count": null,
      "metadata": {
        "collapsed": false
      },
      "outputs": [],
      "source": [
        "import io\nimport pykpp\nimport pandas as pd\nimport numpy as np\nimport matplotlib.pyplot as plt"
      ]
    },
    {
      "cell_type": "markdown",
      "metadata": {},
      "source": [
        "## Define Reactions\n\n* R1 : Zombies infect humans with a seasonal variation\n  * k_inf is set later as a constant\n  * A multiplier ranging from 0.25 in the summer to 1.75 in the winter\n* R2 : zombies kill humans using a constant coefficient\n* R3 : humans kill zombies using a coefficient made of two parts:\n  * k_hkillz : humans naturally defend themselves killing zombies\n  * Z * AREA : the military or police gets involved proportional to the total\n               zombie population.\n  * Right now, human militarization increase with zombie population, but it\n    decreases immediately in response. This is unrealistic. It would be good\n    to add a \"memory\" so that the zombies are removed more effectively.\n* R4, R5 : humans naturally procreate and die\n\n\n"
      ]
    },
    {
      "cell_type": "code",
      "execution_count": null,
      "metadata": {
        "collapsed": false
      },
      "outputs": [],
      "source": [
        "mechanism = \"\"\"\n#EQUATIONS\n{R1} Zombie + Human = 2 Zombie + Infected : k_inf * (np.cos(np.radians(t / 365 * 360)) * 0.5 + 1); {infections increase in winter}\n{R2} Zombie + Human = Zombie + KilledHuman : k_zkillh;\n{R3} Zombie + Human = Human + KilledZombie : k_hkillz * (Zombie * AREA); {humans militarize against zombies proportional to total zombie population}\n{R4} Human = 2 Human : k_hbirth;\n{R5} Human = DeadHuman : k_hdeath;\n\n\"\"\""
      ]
    },
    {
      "cell_type": "markdown",
      "metadata": {},
      "source": [
        "## Initialize the model\n\n* time (t) is initialized at the start\n* the end is set to 10 years hences\n* Latitude/Longitude/Temperature/M are unused, but added to satisfy\n  exectations of pykpp\n* AREA is set to USA area in km2\n* constant rate coefficients are set\n* monitoring the Human and Zombie population\n* using the scipy.ode integrator\n* Finally setting the initial values\n  * CFACTOR is used to convert populations to population/km2\n  * Humans (H) is set to an approximate USA population\n  * Zombies (Z) is set to a very small initial population\n\n\n"
      ]
    },
    {
      "cell_type": "code",
      "execution_count": null,
      "metadata": {
        "collapsed": false
      },
      "outputs": [],
      "source": [
        "setup = \"\"\"\n#INLINE PY_INIT\nt=TSTART=0 # days\nTEND=365.25*10+TSTART\nTEMP = 288.; # unused\nM = 0.; # unused\nDT = 3/24.\nStartDate = 'datetime(2010, 7, 14)'\nLatitude_Degrees = 40. # Unused\nLongitude_Degrees = 0.00E+00 # Unused\nAREA = 9.834e6 {USA area in km2}\nk_inf = 0.5/365 # 0.5 km2/person/year\nk_zkillh = 0.2/365 # 0.2 km2/person/year\nk_hkillz = 0.1/365 # 0.1 km2/person/year\nk_hbirth = 0.01/365 # 1% per year\nk_hdeath = 0.01/365 # 1% per year\n#ENDINLINE\n\"\"\"\nconfig = \"\"\"\n#MONITOR Human; Zombie;\n#INTEGRATOR odeint;\n\"\"\"\ninit = \"\"\"\n#INITVALUES\nCFACTOR = 1./AREA {people-to-people/km2 based on USA area}\nALL_SPEC=1e-32*CFACTOR;\nHuman = 300e6 {approximate US population}\nZombie = 10\n\"\"\"\nmechdef = setup + '\\n' + config + '\\n' + init + '\\n' + mechanism"
      ]
    },
    {
      "cell_type": "markdown",
      "metadata": {},
      "source": [
        "## Load the model\n\n* Using IO to create an in-memory file\n* Creating a mechanism:\n  * called 'zombies', so the output will be 'zombies.pykpp.tsv'\n  * solving at a 1 day increment\n  * monitoring as it is solved per year\n\n"
      ]
    },
    {
      "cell_type": "code",
      "execution_count": null,
      "metadata": {
        "collapsed": false
      },
      "outputs": [],
      "source": [
        "mech = pykpp.mech.Mech(\n    io.StringIO(mechdef), mechname='zombies', incr=1, monitor_incr=365,\n    verbose=0\n)"
      ]
    },
    {
      "cell_type": "markdown",
      "metadata": {},
      "source": [
        "## Reset and Run\n\n* Run the model and print the total time to solve\n\n"
      ]
    },
    {
      "cell_type": "code",
      "execution_count": null,
      "metadata": {
        "collapsed": false
      },
      "outputs": [],
      "source": [
        "runtime = mech.run(verbose=1, debug=False, solver='odeint'); # vode or lsoda\nprint('Runtime (s)', runtime)"
      ]
    },
    {
      "cell_type": "markdown",
      "metadata": {},
      "source": [
        "## Plot the Zombie Statistics\n\n* Using pandas to read the file\n* Using matplotlib for control over plotting.\n* note that the seasonality of infection rate causes the wobble.\n\n"
      ]
    },
    {
      "cell_type": "code",
      "execution_count": null,
      "metadata": {
        "collapsed": false
      },
      "outputs": [],
      "source": [
        "def zombieplot(tsvpath, timelabel='Years'):\n  data = pd.read_csv(tsvpath, delimiter='\\t', index_col='t')\n  if timelabel.lower() == 'years':\n    tfac = 1 / 365.25\n  elif timelabel.lower() == 'days':\n    tfac = 1\n  else:\n    raise KeyError(f'timelabel must be Years or Days; got {timelabel}')\n\n  t = data.index.values * tfac\n  kH = data.Human / 1e6\n  Z = data.Zombie\n  dZ = data.KilledZombie\n  kI = data.Infected\n  gskw = dict(wspace=0.2, left=.2)\n  fig, axx = plt.subplots(1, 3, figsize=(14, 4), gridspec_kw=gskw)\n  plt.setp(axx, xlabel=timelabel)\n  plt.rc('lines', marker='o', linestyle='none', markersize=1)\n  axx[0].plot(t, kH, label='Human Population (1e6)')\n  mfmt = plt.matplotlib.ticker.FuncFormatter('{0:.5f}'.format)\n  axx[0].yaxis.set_major_formatter(mfmt)\n  axx[1].plot(t, Z, label='Zombies Population')\n  axx[2].plot(t[1:], np.diff(dZ), label='Zombies Killed Rate (per day)')\n  axx[2].plot(t[1:], np.diff(kI), label='Infection Rate (per day)')\n  for ai, ax in enumerate(axx):\n    ax.legend()\n  axx[1].set_ylim(0, None);\n  axx[2].set_ylim(0, None);\n  return fig\n\nfig = zombieplot('zombies.pykpp.tsv')\nfig.savefig('zombies.pykpp.png')"
      ]
    },
    {
      "cell_type": "markdown",
      "metadata": {},
      "source": [
        "## Re run with adjustments parameters\n\n\n"
      ]
    },
    {
      "cell_type": "code",
      "execution_count": null,
      "metadata": {
        "collapsed": false
      },
      "outputs": [],
      "source": [
        "mech = pykpp.mech.Mech(\n    io.StringIO(mechdef), mechname='zombies2', incr=1, monitor_incr=365,\n    verbose=0\n)\n# Increase initial Zombies by 2 and the infection rate by 20\nmech.world['Zombie'] *= 2\nmech.world['k_inf'] *= 20\nruntime = mech.run(verbose=1, debug=False, solver='odeint'); # vode or lsoda\n\nfig = zombieplot('zombies2.pykpp.tsv');\nfig.savefig('zombies2.pykpp.png')"
      ]
    },
    {
      "cell_type": "markdown",
      "metadata": {},
      "source": [
        "## Equations of the End: Teaching Mathematical Modeling Using the Zombie Apocalypse\n\nLofgren et al. 2016[1] published a teaching example and an on-line\nplayground[2] with solutions. This offers a really cool opportunity\nto check our results. \n\nWe get the exact same results -- hooray! Try changing the parameters. For\nexample, adjust the parameters to represent COVID. Consider adding effects\nof temperature and humidity in transmission.\n\n[1] https://www.ncbi.nlm.nih.gov/pmc/articles/PMC4798798/#s1-jmbe-17-134\n\n[2] http://cartwrig.ht/apps/whitezed/\n\n"
      ]
    },
    {
      "cell_type": "code",
      "execution_count": null,
      "metadata": {
        "collapsed": false
      },
      "outputs": [],
      "source": [
        "import pykpp\nimport pandas as pd\nzeddef = \"\"\"\n#EQUATIONS\n{R1} Zombie + Susceptible = Zombie + Infected : k_inf;\n{R2} Zombie + Susceptible = Zombie + KilledHuman : k_zkillh;\n{R3} Zombie + Susceptible = Susceptible + KilledZombie : k_hkillz; \n{R5} Zombie = DecayedZombie : k_zdeath;\n{R6} Susceptible = Vaccinated : k_vaccination;\n{R7} Infected = Zombie : k_incubation;\n\n#INLINE PY_INIT\nt=TSTART=0 # days\nTEND=TSTART + 60\nTEMP = 288.; # unused, but represents average surface temperature\nP = 101325.; # unused, but represents average surface pressure\nM = P / 8.314 / TEMP * 6.022e23; # unused\n\nDT = 1/24.\n\nStartDate = 'datetime(2010, 7, 14)'\nLatitude_Degrees = 40. # Unused\nLongitude_Degrees = 0.00E+00 # Unused\n\nk_inf = 1.          {infection rate}\nk_zkillh = 0.0      {zombie kill human rate}\nk_hkillz = 0.0      {human kill zombie rate}\nk_zdeath = 0.0      {zombie decay}\nk_vaccination = 0.0 {rate of susceptible vaccination}\nincubation_time_days = 1e-3 {must be greater than zero}\nk_incubation = 1 / (incubation_time_days) { tau = 1 / k; so tau = 1 seconds}\n#ENDINLINE\n\n#MONITOR Susceptible; Vaccinated; Zombie;\n#INTEGRATOR odeint;\n\n#INITVALUES\nCFACTOR = 1./10001 { denominator should match sum of people = Susceptible + Vaccinated + Zombie}\nALL_SPEC=1e-32*CFACTOR;\nSusceptible = 10000\nVaccinated = 0\nZombie = 1\n\"\"\"\nmech = pykpp.mech.Mech(\n    io.StringIO(zeddef), mechname='zed', incr=1/24, monitor_incr=5, verbose=0\n)\nruntime = mech.run(verbose=1, debug=False, solver='odeint'); # vode or lsoda\n\ndata = pd.read_csv('zed.pykpp.tsv', delimiter='\\t', index_col='t')\nax = data.drop(['TEMP', 'P', 'CFACTOR'], axis=1).plot()\nax.figure.savefig('zed.pykpp.png')"
      ]
    }
  ],
  "metadata": {
    "kernelspec": {
      "display_name": "Python 3",
      "language": "python",
      "name": "python3"
    },
    "language_info": {
      "codemirror_mode": {
        "name": "ipython",
        "version": 3
      },
      "file_extension": ".py",
      "mimetype": "text/x-python",
      "name": "python",
      "nbconvert_exporter": "python",
      "pygments_lexer": "ipython3",
      "version": "3.13.3"
    }
  },
  "nbformat": 4,
  "nbformat_minor": 0
}